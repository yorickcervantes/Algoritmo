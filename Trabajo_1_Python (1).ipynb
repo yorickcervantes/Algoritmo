{
  "nbformat": 4,
  "nbformat_minor": 0,
  "metadata": {
    "colab": {
      "provenance": []
    },
    "kernelspec": {
      "name": "python3",
      "display_name": "Python 3"
    },
    "language_info": {
      "name": "python"
    }
  },
  "cells": [
    {
      "cell_type": "markdown",
      "source": [
        "#Introducción a Python\n",
        "---\n",
        "\n"
      ],
      "metadata": {
        "id": "ZasaUc7HpwIi"
      }
    },
    {
      "cell_type": "markdown",
      "source": [
        "## Algunos objetos en Python\n",
        "### Números y Strings\n",
        "\n",
        "\n",
        "*   int, float\n",
        "*   str\n",
        "---\n",
        "\n",
        "\"Operaciones básiacs entre números\"\n",
        "\n",
        "\n",
        "\n",
        "1.  $+, -$\n",
        "2.  $*, **$\n",
        "3.  $/, //\n",
        "\n",
        "4.  $\\%$\n",
        "\n",
        "\n",
        "\n",
        "$$\\int_{-\\infty}^{\\infty}e^{-\\frac{x^2}{2}}dx=\\sqrt{2\\pi}$$\n",
        "\n",
        "\n",
        "\n",
        "\n"
      ],
      "metadata": {
        "id": "_MTcgeb_p78J"
      }
    },
    {
      "cell_type": "code",
      "source": [
        "5+5\n",
        "5**5"
      ],
      "metadata": {
        "colab": {
          "base_uri": "https://localhost:8080/"
        },
        "id": "izxZyOWJ0vTA",
        "outputId": "1e6b6f59-6f8a-45e9-8755-4cbbbc6d1add"
      },
      "execution_count": 11,
      "outputs": [
        {
          "output_type": "execute_result",
          "data": {
            "text/plain": [
              "3125"
            ]
          },
          "metadata": {},
          "execution_count": 11
        }
      ]
    },
    {
      "cell_type": "markdown",
      "source": [
        "#Python tiene funciones integradas\n",
        "Vamos a ver dos funciones.\n",
        "\n",
        "1.   print\n",
        "2.   type\n",
        "\n",
        "\n"
      ],
      "metadata": {
        "id": "rorBrCCNyFSi"
      }
    },
    {
      "cell_type": "code",
      "source": [
        "#vamos a crear dos variables int\n",
        "x=5\n",
        "y=2"
      ],
      "metadata": {
        "id": "zd4BQB2mynoW"
      },
      "execution_count": 12,
      "outputs": []
    },
    {
      "cell_type": "code",
      "source": [
        "{x}"
      ],
      "metadata": {
        "colab": {
          "base_uri": "https://localhost:8080/"
        },
        "id": "JNbXsazZ0e73",
        "outputId": "7d0a086c-8fd9-42ec-c786-3194b66f5215"
      },
      "execution_count": 13,
      "outputs": [
        {
          "output_type": "execute_result",
          "data": {
            "text/plain": [
              "{5}"
            ]
          },
          "metadata": {},
          "execution_count": 13
        }
      ]
    },
    {
      "cell_type": "code",
      "source": [
        "{y}"
      ],
      "metadata": {
        "colab": {
          "base_uri": "https://localhost:8080/"
        },
        "id": "QR54lism0owN",
        "outputId": "9ae98ca7-3f0b-4dd1-f60e-e0fea91c6017"
      },
      "execution_count": 14,
      "outputs": [
        {
          "output_type": "execute_result",
          "data": {
            "text/plain": [
              "{2}"
            ]
          },
          "metadata": {},
          "execution_count": 14
        }
      ]
    },
    {
      "cell_type": "markdown",
      "source": [
        "#Variables\n",
        "nombre=objeto"
      ],
      "metadata": {
        "id": "hYYSJx4OzCId"
      }
    },
    {
      "cell_type": "code",
      "source": [
        "print(\"Hola mundo!\")\n",
        "(\"Hola mundo!\")\n"
      ],
      "metadata": {
        "colab": {
          "base_uri": "https://localhost:8080/",
          "height": 52
        },
        "id": "H1PVZYGSzT3Q",
        "outputId": "87e50da5-eead-4018-adf0-2420225dd604"
      },
      "execution_count": 15,
      "outputs": [
        {
          "output_type": "stream",
          "name": "stdout",
          "text": [
            "Hola mundo!\n"
          ]
        },
        {
          "output_type": "execute_result",
          "data": {
            "text/plain": [
              "'Hola mundo!'"
            ],
            "application/vnd.google.colaboratory.intrinsic+json": {
              "type": "string"
            }
          },
          "metadata": {},
          "execution_count": 15
        }
      ]
    },
    {
      "cell_type": "code",
      "source": [
        "print(f\"El residuo de {x} entre {y} es {x%y} \")"
      ],
      "metadata": {
        "colab": {
          "base_uri": "https://localhost:8080/"
        },
        "id": "pkuzADMS01Kd",
        "outputId": "57128079-57d8-463f-8d91-8446683665f2"
      },
      "execution_count": 16,
      "outputs": [
        {
          "output_type": "stream",
          "name": "stdout",
          "text": [
            "El residuo de 5 entre 2 es 1 \n"
          ]
        }
      ]
    },
    {
      "cell_type": "markdown",
      "source": [],
      "metadata": {
        "id": "hjeWtPr-rd3R"
      }
    },
    {
      "cell_type": "markdown",
      "source": [
        "##Listas\n",
        "\n",
        "Una lista es un objeto de la forma:\n",
        "\n",
        "$$\\text{Lista} = [e_1,e_2,...,e_n]$$\n",
        "\n",
        "Cada elemento puede ser, a su vez , un objeto.\n"
      ],
      "metadata": {
        "id": "9XeXq3yPV5CE"
      }
    },
    {
      "cell_type": "code",
      "source": [
        "# Vamos a crear una lista\n",
        "\n",
        "lista_1=[7,7.7,\"Victoria\",[1,2,3]]"
      ],
      "metadata": {
        "id": "KTOdLJ8SXMel"
      },
      "execution_count": 17,
      "outputs": []
    },
    {
      "cell_type": "code",
      "source": [
        "lista_1"
      ],
      "metadata": {
        "colab": {
          "base_uri": "https://localhost:8080/"
        },
        "id": "2VXQtbwdY8ZG",
        "outputId": "0f8705e1-9021-432a-9c9f-e25c4b0c8b79"
      },
      "execution_count": 18,
      "outputs": [
        {
          "output_type": "execute_result",
          "data": {
            "text/plain": [
              "[7, 7.7, 'Victoria', [1, 2, 3]]"
            ]
          },
          "metadata": {},
          "execution_count": 18
        }
      ]
    },
    {
      "cell_type": "code",
      "source": [
        "type(lista_1)"
      ],
      "metadata": {
        "colab": {
          "base_uri": "https://localhost:8080/"
        },
        "id": "2fuWC5nAY_nK",
        "outputId": "d553bbe8-844f-4b30-840d-75d269211b36"
      },
      "execution_count": 19,
      "outputs": [
        {
          "output_type": "execute_result",
          "data": {
            "text/plain": [
              "list"
            ]
          },
          "metadata": {},
          "execution_count": 19
        }
      ]
    },
    {
      "cell_type": "markdown",
      "source": [
        "### Etiquetas en Python\n",
        "\n",
        "En Python existe una función que se llama `range(a,b)`en donde $a$ y $b$ son entreros mayores o iguales a 0. Aquí, $a<b$.\n",
        "\n"
      ],
      "metadata": {
        "id": "fenvYQ9zZmmk"
      }
    },
    {
      "cell_type": "code",
      "source": [
        "range(57)"
      ],
      "metadata": {
        "colab": {
          "base_uri": "https://localhost:8080/"
        },
        "id": "I8P672c_aWlz",
        "outputId": "f96b5ceb-3ff6-4a4c-b2a0-382800823b81"
      },
      "execution_count": 20,
      "outputs": [
        {
          "output_type": "execute_result",
          "data": {
            "text/plain": [
              "range(0, 57)"
            ]
          },
          "metadata": {},
          "execution_count": 20
        }
      ]
    },
    {
      "cell_type": "code",
      "source": [
        "type(range(57)) #Generador de índices (o etiquetas)"
      ],
      "metadata": {
        "colab": {
          "base_uri": "https://localhost:8080/"
        },
        "id": "u-qUA4FDaddj",
        "outputId": "2ab920ba-aa54-4bda-a656-394b56584f00"
      },
      "execution_count": 21,
      "outputs": [
        {
          "output_type": "execute_result",
          "data": {
            "text/plain": [
              "range"
            ]
          },
          "metadata": {},
          "execution_count": 21
        }
      ]
    },
    {
      "cell_type": "code",
      "source": [
        "for i in range(57):\n",
        " print(i)"
      ],
      "metadata": {
        "colab": {
          "base_uri": "https://localhost:8080/"
        },
        "id": "UdEJ6AE8bglN",
        "outputId": "44d3e53f-4b9d-4c11-a58f-0d4a71dbce82"
      },
      "execution_count": 22,
      "outputs": [
        {
          "output_type": "stream",
          "name": "stdout",
          "text": [
            "0\n",
            "1\n",
            "2\n",
            "3\n",
            "4\n",
            "5\n",
            "6\n",
            "7\n",
            "8\n",
            "9\n",
            "10\n",
            "11\n",
            "12\n",
            "13\n",
            "14\n",
            "15\n",
            "16\n",
            "17\n",
            "18\n",
            "19\n",
            "20\n",
            "21\n",
            "22\n",
            "23\n",
            "24\n",
            "25\n",
            "26\n",
            "27\n",
            "28\n",
            "29\n",
            "30\n",
            "31\n",
            "32\n",
            "33\n",
            "34\n",
            "35\n",
            "36\n",
            "37\n",
            "38\n",
            "39\n",
            "40\n",
            "41\n",
            "42\n",
            "43\n",
            "44\n",
            "45\n",
            "46\n",
            "47\n",
            "48\n",
            "49\n",
            "50\n",
            "51\n",
            "52\n",
            "53\n",
            "54\n",
            "55\n",
            "56\n"
          ]
        }
      ]
    },
    {
      "cell_type": "code",
      "source": [
        "len(lista_1) #La función len(variable) cuenta el número de elementos que hay"
      ],
      "metadata": {
        "colab": {
          "base_uri": "https://localhost:8080/"
        },
        "id": "ydMsXXX_gkj6",
        "outputId": "bc9496a2-d833-4c0f-84bf-ad082031d063"
      },
      "execution_count": 23,
      "outputs": [
        {
          "output_type": "execute_result",
          "data": {
            "text/plain": [
              "4"
            ]
          },
          "metadata": {},
          "execution_count": 23
        }
      ]
    },
    {
      "cell_type": "code",
      "source": [
        "lista_1[1],type(lista_1[1])"
      ],
      "metadata": {
        "colab": {
          "base_uri": "https://localhost:8080/"
        },
        "id": "JHEWcMWZhfWX",
        "outputId": "401ed7db-4f4d-4648-cf1e-71f0214a9156"
      },
      "execution_count": 24,
      "outputs": [
        {
          "output_type": "execute_result",
          "data": {
            "text/plain": [
              "(7.7, float)"
            ]
          },
          "metadata": {},
          "execution_count": 24
        }
      ]
    },
    {
      "cell_type": "code",
      "source": [
        "lista_1[2],type(lista_1[2])"
      ],
      "metadata": {
        "colab": {
          "base_uri": "https://localhost:8080/"
        },
        "id": "mKPOm5-5iBv7",
        "outputId": "76d08e3e-a388-4118-f693-c731a75830b7"
      },
      "execution_count": 25,
      "outputs": [
        {
          "output_type": "execute_result",
          "data": {
            "text/plain": [
              "('Victoria', str)"
            ]
          },
          "metadata": {},
          "execution_count": 25
        }
      ]
    },
    {
      "cell_type": "code",
      "source": [
        "lista_1[3],type(lista_1[3])"
      ],
      "metadata": {
        "colab": {
          "base_uri": "https://localhost:8080/"
        },
        "id": "cKO1uMsfiG4u",
        "outputId": "17e2ed1b-32ca-40b8-bfdd-376dbe8643ae"
      },
      "execution_count": 26,
      "outputs": [
        {
          "output_type": "execute_result",
          "data": {
            "text/plain": [
              "([1, 2, 3], list)"
            ]
          },
          "metadata": {},
          "execution_count": 26
        }
      ]
    },
    {
      "cell_type": "code",
      "source": [
        "type(lista_1[3][0])"
      ],
      "metadata": {
        "colab": {
          "base_uri": "https://localhost:8080/"
        },
        "id": "YJP6J8eQsoaV",
        "outputId": "311d89b6-fb10-4233-dc5a-116e7933818b"
      },
      "execution_count": 27,
      "outputs": [
        {
          "output_type": "execute_result",
          "data": {
            "text/plain": [
              "int"
            ]
          },
          "metadata": {},
          "execution_count": 27
        }
      ]
    },
    {
      "cell_type": "markdown",
      "source": [
        "##Algunos atributos de las listas"
      ],
      "metadata": {
        "id": "d5YIB8cutM5M"
      }
    },
    {
      "cell_type": "code",
      "source": [
        "lista_1.append(\"Hati\")"
      ],
      "metadata": {
        "id": "Ye9oqhMJtSWD"
      },
      "execution_count": 28,
      "outputs": []
    },
    {
      "cell_type": "code",
      "source": [
        "lista_1"
      ],
      "metadata": {
        "colab": {
          "base_uri": "https://localhost:8080/"
        },
        "id": "lfHwRwaTt2mt",
        "outputId": "c08f00b2-7306-42da-c641-51895c3f2a3b"
      },
      "execution_count": 29,
      "outputs": [
        {
          "output_type": "execute_result",
          "data": {
            "text/plain": [
              "[7, 7.7, 'Victoria', [1, 2, 3], 'Hati']"
            ]
          },
          "metadata": {},
          "execution_count": 29
        }
      ]
    },
    {
      "cell_type": "code",
      "source": [
        "L=[x for x in range(21)]"
      ],
      "metadata": {
        "id": "TlTSoVQCwDaW"
      },
      "execution_count": null,
      "outputs": []
    },
    {
      "cell_type": "markdown",
      "source": [
        "$a \\ in A$"
      ],
      "metadata": {
        "id": "5Yp303VYwh8T"
      }
    },
    {
      "cell_type": "code",
      "source": [
        "M=[x for x in range(21) if x % 3 == 0]"
      ],
      "metadata": {
        "id": "mGgcx4NZyCWW"
      },
      "execution_count": 36,
      "outputs": []
    },
    {
      "cell_type": "code",
      "source": [
        "L[0:6]#slice"
      ],
      "metadata": {
        "colab": {
          "base_uri": "https://localhost:8080/"
        },
        "id": "srZ4s0R0yjGa",
        "outputId": "1127fc0b-074a-43a3-9fba-bef35d7be957"
      },
      "execution_count": 31,
      "outputs": [
        {
          "output_type": "execute_result",
          "data": {
            "text/plain": [
              "[7, 7.7, 'Victoria', [1, 2, 3]]"
            ]
          },
          "metadata": {},
          "execution_count": 31
        }
      ]
    },
    {
      "cell_type": "code",
      "source": [
        "L[0:20]"
      ],
      "metadata": {
        "colab": {
          "base_uri": "https://localhost:8080/"
        },
        "id": "M_EF2Q7EzQkT",
        "outputId": "da1e3359-96c0-495d-c85c-aec75547b255"
      },
      "execution_count": 34,
      "outputs": [
        {
          "output_type": "execute_result",
          "data": {
            "text/plain": [
              "[7, 7.7, 'Victoria', [1, 2, 3]]"
            ]
          },
          "metadata": {},
          "execution_count": 34
        }
      ]
    }
  ]
}